{
 "cells": [
  {
   "cell_type": "markdown",
   "id": "59b25938",
   "metadata": {},
   "source": [
    "## Use Polyjuice to create CADs"
   ]
  },
  {
   "cell_type": "code",
   "execution_count": null,
   "id": "direct-execution",
   "metadata": {},
   "outputs": [],
   "source": [
    "import pandas as pd"
   ]
  },
  {
   "cell_type": "code",
   "execution_count": null,
   "id": "selected-tourist",
   "metadata": {},
   "outputs": [],
   "source": [
    "CONSTRUCTS = ['sexism', 'hate speech']"
   ]
  },
  {
   "cell_type": "code",
   "execution_count": null,
   "id": "casual-captain",
   "metadata": {},
   "outputs": [],
   "source": [
    "training_data_path = {}\n",
    "data = {}"
   ]
  },
  {
   "cell_type": "code",
   "execution_count": null,
   "id": "dominican-garlic",
   "metadata": {},
   "outputs": [],
   "source": [
    "for construct in CONSTRUCTS:\n",
    "    training_data_path[construct] = DATAROOT + construct + '/train/original.csv'\n",
    "    data[construct] = pd.read_csv(training_data_path[construct], sep = '\\t')"
   ]
  },
  {
   "cell_type": "code",
   "execution_count": null,
   "id": "bored-matter",
   "metadata": {},
   "outputs": [],
   "source": [
    "data['sexism'].head()"
   ]
  },
  {
   "cell_type": "code",
   "execution_count": null,
   "id": "opposed-channel",
   "metadata": {},
   "outputs": [],
   "source": [
    "texts = {}\n",
    "\n",
    "for construct in CONSTRUCTS:\n",
    "    texts[construct] = dict(zip(data[construct]['_id'], data[construct]['text']))"
   ]
  },
  {
   "cell_type": "code",
   "execution_count": null,
   "id": "double-literature",
   "metadata": {},
   "outputs": [],
   "source": [
    "def generate_polyjuice_cad(texts):\n",
    "    from polyjuice import Polyjuice\n",
    "    pj = Polyjuice(model_path=\"uw-hai/polyjuice\", is_cuda=False)\n",
    "\n",
    "    codes = ['resemantic', 'restructure', 'negation', 'insert', 'lexical', 'shuffle', 'quantifier', 'delete']\n",
    "    \n",
    "    all_perturbations = {}\n",
    "\n",
    "    for id_, text in texts.items():\n",
    "        all_perturbations[id_] = {}\n",
    "        for code in codes:\n",
    "            all_perturbations[id_][code] = []\n",
    "\n",
    "    for n, (id_, text) in enumerate(texts.items()):\n",
    "        # print(text)\n",
    "        if n % 100 == 0:\n",
    "            print(n, 'done...')\n",
    "        for n in range(5):  \n",
    "            for code in codes:\n",
    "                try:\n",
    "                    all_perturbations[id_][code].extend(pj.perturb(orig_sent=text,\n",
    "                                                                ctrl_code=code\n",
    "                                                               ))\n",
    "                except Exception as e:\n",
    "                    print(text)\n",
    "                    print(e)\n",
    "                    pass\n",
    "                \n",
    "    return all_perturbations"
   ]
  },
  {
   "cell_type": "code",
   "execution_count": null,
   "id": "respiratory-checkout",
   "metadata": {},
   "outputs": [],
   "source": [
    "cad = {}"
   ]
  },
  {
   "cell_type": "code",
   "execution_count": null,
   "id": "chemical-penetration",
   "metadata": {
    "scrolled": false
   },
   "outputs": [],
   "source": [
    "import time\n",
    "import pickle\n",
    "\n",
    "start_time = time.time()\n",
    "for construct in CONSTRUCTS:\n",
    "    cad[construct] = generate_polyjuice_cad(texts[construct])\n",
    "    print(\"--- %s seconds ---\" % (time.time() - start_time))\n",
    "    with open(DESIGNEDDATAROOT + '/cad/%s/' %construct + 'polyjuice.pickle', 'wb') as handle:\n",
    "        pickle.dump(cad[construct], handle, protocol=pickle.HIGHEST_PROTOCOL)"
   ]
  },
  {
   "cell_type": "code",
   "execution_count": null,
   "id": "induced-arbitration",
   "metadata": {},
   "outputs": [],
   "source": []
  },
  {
   "cell_type": "code",
   "execution_count": null,
   "id": "arabic-conducting",
   "metadata": {},
   "outputs": [],
   "source": []
  }
 ],
 "metadata": {
  "kernelspec": {
   "display_name": "Python 3 (ipykernel)",
   "language": "python",
   "name": "python3"
  },
  "language_info": {
   "codemirror_mode": {
    "name": "ipython",
    "version": 3
   },
   "file_extension": ".py",
   "mimetype": "text/x-python",
   "name": "python",
   "nbconvert_exporter": "python",
   "pygments_lexer": "ipython3",
   "version": "3.11.5"
  }
 },
 "nbformat": 4,
 "nbformat_minor": 5
}
